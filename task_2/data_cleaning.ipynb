{
 "cells": [
  {
   "cell_type": "markdown",
   "metadata": {},
   "source": [
    "Data cleaning task 2"
   ]
  },
  {
   "cell_type": "code",
   "execution_count": 2,
   "metadata": {},
   "outputs": [],
   "source": [
    "# importing library pandas for data manipulation\n",
    "\n",
    "import pandas as pd"
   ]
  },
  {
   "cell_type": "code",
   "execution_count": 3,
   "metadata": {},
   "outputs": [],
   "source": [
    "# importing csv files/ data set\n",
    "content_df = pd.read_csv('data_sets/Content.csv')\n",
    "reactions_df = pd.read_csv('data_sets/Reactions.csv')\n",
    "reaction_types_df = pd.read_csv('data_sets/ReactionTypes.csv')"
   ]
  },
  {
   "cell_type": "code",
   "execution_count": null,
   "metadata": {},
   "outputs": [],
   "source": [
    "content_df.head()"
   ]
  },
  {
   "cell_type": "code",
   "execution_count": 10,
   "metadata": {},
   "outputs": [],
   "source": [
    "# code to standardize values in a column\n",
    "\n",
    "def standardize_values(value):\n",
    "    if isinstance(value, str):\n",
    "        return value.strip().lower().replace('\"', '')\n",
    "    return value"
   ]
  },
  {
   "cell_type": "code",
   "execution_count": 15,
   "metadata": {},
   "outputs": [],
   "source": [
    "\n",
    "# Clean Content dataset\n",
    "content_df_cleaned = content_df.dropna()  # Remove rows with missing values\n",
    "content_df_cleaned = content_df_cleaned.rename(columns={'Type': 'Content Type'})  # Rename \"Type\" to \"Content Type\"\n",
    "content_df_cleaned = content_df_cleaned.drop(columns=['User ID', 'URL'])  # Remove irrelevant columns\n",
    "content_df_cleaned = content_df_cleaned.map(lambda x: x.strip() if isinstance(x, str) else x)  # Remove blanks\n",
    "content_df_cleaned.columns = content_df_cleaned.columns.str.strip()  # Remove blanks from column names\n",
    "content_df_cleaned['Category'] = content_df_cleaned['Category'].apply(standardize_values)"
   ]
  },
  {
   "cell_type": "code",
   "execution_count": 16,
   "metadata": {},
   "outputs": [],
   "source": [
    "content_df_cleaned.to_csv('data_sets/Content_Cleaned.csv', index=False, quotechar='', quoting=3)"
   ]
  },
  {
   "cell_type": "code",
   "execution_count": null,
   "metadata": {},
   "outputs": [],
   "source": [
    "# Clean Reactions dataset\n",
    "reactions_df_cleaned = reactions_df.dropna()  # Remove rows with missing values\n",
    "reactions_df_cleaned = reactions_df_cleaned.rename(columns={'Type': 'Reaction Type'})  # Rename \"Type\" to \"Reaction Type\"\n",
    "reactions_df_cleaned = reactions_df_cleaned.drop(columns=['User ID'])  # Remove irrelevant columns\n",
    "reactions_df_cleaned = reactions_df_cleaned.applymap(lambda x: x.strip() if isinstance(x, str) else x)  # Remove blanks\n",
    "reactions_df_cleaned.columns = reactions_df_cleaned.columns.str.strip()  # Remove blanks from column names\n",
    "\n"
   ]
  },
  {
   "cell_type": "code",
   "execution_count": 18,
   "metadata": {},
   "outputs": [],
   "source": [
    "reactions_df_cleaned.to_csv('data_sets/Reactions_Cleaned.csv', index=False, quotechar='', quoting=3)"
   ]
  },
  {
   "cell_type": "code",
   "execution_count": null,
   "metadata": {},
   "outputs": [],
   "source": [
    "\n",
    "# Clean ReactionTypes dataset\n",
    "reaction_types_df_cleaned = reaction_types_df.dropna()  # Remove rows with missing values\n",
    "reaction_types_df_cleaned = reaction_types_df_cleaned.rename(columns={'Type': 'Reaction Type'})  # Rename \"Type\" to \"Reaction Type\"\n",
    "reaction_types_df_cleaned['Score'] = reaction_types_df_cleaned['Score'].astype(int)  # Convert 'Score' to integer type\n",
    "reaction_types_df_cleaned = reaction_types_df_cleaned.applymap(lambda x: x.strip() if isinstance(x, str) else x)  # Remove blanks\n",
    "reaction_types_df_cleaned.columns = reaction_types_df_cleaned.columns.str.strip()  # Remove blanks from column names\n"
   ]
  },
  {
   "cell_type": "code",
   "execution_count": 20,
   "metadata": {},
   "outputs": [],
   "source": [
    "reaction_types_df_cleaned.to_csv('data_sets/ReactionTypes_Cleaned.csv', index=False, quotechar='', quoting=3)"
   ]
  },
  {
   "cell_type": "code",
   "execution_count": null,
   "metadata": {},
   "outputs": [],
   "source": [
    "# merge the three csvs into one \n",
    "\n",
    "merged_df = dfs['Reactions']\n",
    "merged_df = merged_df.merge(dfs['Content'], on='ReactionID', how='left')\n",
    "merged_df = merged_df.merge(dfs['ReactionTypes'], on='ReactionID', how='left')\n",
    "\n",
    "# Save the final merged dataframe to a new CSV file\n",
    "merged_df.to_csv('merged_data.csv', index=False)"
   ]
  },
  {
   "cell_type": "code",
   "execution_count": 3,
   "metadata": {},
   "outputs": [],
   "source": [
    "# Load cleaned data into dataframes for merging\n",
    "content_cleaned_df = pd.read_csv('data_sets/Content_Cleaned.csv')\n",
    "reactions_cleaned_df = pd.read_csv('data_sets/Reactions_Cleaned.csv')\n",
    "reaction_types_cleaned_df = pd.read_csv('data_sets/ReactionTypes_Cleaned.csv')"
   ]
  },
  {
   "cell_type": "code",
   "execution_count": 5,
   "metadata": {},
   "outputs": [],
   "source": [
    "# Merge the dataframes\n",
    "# Assume 'ReactionID' is the common key for merging\n",
    "merged_df = reactions_cleaned_df.merge(content_cleaned_df, on='Content ID', how='left')\n",
    "merged_df = merged_df.merge(reaction_types_cleaned_df, on='Reaction Type', how='left')"
   ]
  },
  {
   "cell_type": "code",
   "execution_count": 6,
   "metadata": {},
   "outputs": [],
   "source": [
    "# Save the final merged dataframe to a new CSV file\n",
    "merged_df.to_csv('merged_data.csv', index=False)\n"
   ]
  },
  {
   "cell_type": "code",
   "execution_count": 15,
   "metadata": {},
   "outputs": [
    {
     "name": "stderr",
     "output_type": "stream",
     "text": [
      "C:\\Users\\dravi\\AppData\\Local\\Temp\\ipykernel_11604\\819256424.py:22: FutureWarning: The behavior of DataFrame concatenation with empty or all-NA entries is deprecated. In a future version, this will no longer exclude empty or all-NA columns when determining the result dtypes. To retain the old behavior, exclude the relevant entries before the concat operation.\n",
      "  merged_with_summary_df = pd.concat([merged_df, top_5_df], ignore_index=True)\n"
     ]
    }
   ],
   "source": [
    "\n",
    "\n",
    "# Load the merged data\n",
    "merged_df = pd.read_csv('merged_data.csv')\n",
    "\n",
    "# Group by 'Category' and count the number of reactions for each category\n",
    "category_reaction_counts = merged_df.groupby('Category').size().reset_index(name='Reaction Count')\n",
    "\n",
    "# Sort the categories by reaction count in descending order and get the top 5 categories\n",
    "top_5_categories = category_reaction_counts.sort_values(by='Reaction Count', ascending=False).head(5)\n",
    "\n",
    "# Create a new dataframe for the top 5 categories\n",
    "top_5_df = pd.DataFrame({'Category': top_5_categories['Category'], 'Reaction Count': top_5_categories['Reaction Count']})\n",
    "\n",
    "# Add a new column to indicate this is a summary\n",
    "top_5_df['Summary'] = 'Top 5 Categories'\n",
    "\n",
    "# Add missing columns to match the original DataFrame\n",
    "for col in merged_df.columns:\n",
    "    if col not in top_5_df.columns:\n",
    "        top_5_df[col] = None\n",
    "\n",
    "# Concatenate the original dataframe with the top 5 summary dataframe\n",
    "merged_with_summary_df = pd.concat([merged_df, top_5_df], ignore_index=True)\n",
    "\n",
    "# Save the final dataframe with the summary to a new CSV file\n",
    "merged_with_summary_df.to_csv('merged_data_with_summary.csv', index=False)\n"
   ]
  },
  {
   "cell_type": "code",
   "execution_count": 16,
   "metadata": {},
   "outputs": [
    {
     "name": "stdout",
     "output_type": "stream",
     "text": [
      "          Category  Reaction Count\n",
      "14          travel            1368\n",
      "9          science            1351\n",
      "0          animals            1323\n",
      "7   healthy eating            1303\n",
      "1          cooking            1277\n"
     ]
    }
   ],
   "source": [
    "print(top_5_categories)"
   ]
  }
 ],
 "metadata": {
  "kernelspec": {
   "display_name": "Python 3",
   "language": "python",
   "name": "python3"
  },
  "language_info": {
   "codemirror_mode": {
    "name": "ipython",
    "version": 3
   },
   "file_extension": ".py",
   "mimetype": "text/x-python",
   "name": "python",
   "nbconvert_exporter": "python",
   "pygments_lexer": "ipython3",
   "version": "3.9.13"
  }
 },
 "nbformat": 4,
 "nbformat_minor": 2
}
